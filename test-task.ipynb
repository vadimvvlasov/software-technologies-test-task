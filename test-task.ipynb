{
 "cells": [
  {
   "cell_type": "markdown",
   "metadata": {},
   "source": [
    "# Task 1: Formalisation of Consumer Shopping Behaviour\n",
    "\n",
    "**1) Which probability distributions would you use to model each of the three components:**<br>\n",
    "\n",
    "- probability of category purchase $$ P (I_{ict} = 1) $$ - равномерное дискретное распределение с вероятностью `p = 1/N`, где `N` - количество категорий\n",
    "\n",
    "- the probability of product choice within a category  $$ P ( C_{it}=j |  I_{ict} = 1)$$ - равномерное дискретное распределение с вероятностью `p = 1/N_c`, где `N_c` - количество наименований товаров в категории `c`\n",
    "\n",
    "- the probability for the purchased amount $$ P ( Q_{ijt}|I_{ict}=1 ^ C_{it}=j)$$\n",
    "\n",
    "распределение Пуассона: $p(q_{ijt})=\\frac {\\lambda^q_{ijt}} {q_{ijt}!} \\cdot e^{-\\lambda_{ij}}$ <br>\n",
    "где $q_{ijt}$ - количество покупок товара `j` за неделю `t`, при условии, что данные события в течение недели происходят с фиксированной средней интенсивностью $\\lambda_{ij}$ `i`-м покупателем `j`-го товара и независимо друг от друга.\n",
    "\n",
    "**2) In your opinion, what drives the category purchase incidence?**<br>\n",
    "В соотвествии с описанной выше моделью, количество покупок в категории определяется интенсивностью покупок товаров в этой категории. <br>\n",
    "Кроме того, вероятности покупок по категориям и вероятности выбора товаров внутри категории, скорее всего, неравномерные. Эти вероятности можно оценить по имеющимся историческим данным о покупках, насколько они влияют на количество покупок в категориях товаров.\n",
    "\n",
    "**3) What factors besides the three  mentioned above could influence product choice?**<br>\n",
    "Существенными факторами могут быть:\n",
    "- сезоность, \n",
    "- ежегодно-повторяющиеся события - новый год, 8 марта и т.п.\n",
    "- макроэкономические факторы - изменение доходов населения, процентных ставок, индекс потребительской уверенности"
   ]
  },
  {
   "cell_type": "markdown",
   "metadata": {},
   "source": [
    "# Task 2: Interest rate calculation"
   ]
  },
  {
   "cell_type": "code",
   "execution_count": 47,
   "metadata": {},
   "outputs": [
    {
     "name": "stdout",
     "output_type": "stream",
     "text": [
      "Аргументы для вычисления суммы процентов по кредиту:\n",
      "{'loan amount': 10000, 'annual interest rate': 2.5, 'loan period': 5}\n",
      "Сумма процентов по кредиту: 1314.08\n"
     ]
    }
   ],
   "source": [
    "import json\n",
    "\n",
    "def intrest_rate(json_data):\n",
    "    \"\"\"\n",
    "    Calculates cumulative interest paid on a loan  for the specific period\n",
    "    Returns: \n",
    "    -- cumulative interest\n",
    "    Arguments as JSON object\n",
    "    -- loan amount\n",
    "    -- annual interest rate (in %)\n",
    "    -- loan period (in years)\n",
    "    \"\"\"\n",
    "    data = json.loads(json_data)\n",
    "    cum_interest = data['loan amount']*((1+data['annual interest rate']/100)**data['loan period']-1)\n",
    "    return cum_interest\n",
    "\n",
    "\n",
    "\n",
    "json_data = json.dumps({\n",
    "    'loan amount': 10000, \n",
    "    'annual interest rate': 2.5, \n",
    "    'loan period': 5\n",
    "})\n",
    "\n",
    "print(f'Аргументы для вычисления суммы процентов по кредиту:\\n{json.loads(json_data)}')\n",
    "print(f'Сумма процентов по кредиту: {intrest_rate(json_data):.2f}')"
   ]
  },
  {
   "cell_type": "code",
   "execution_count": null,
   "metadata": {},
   "outputs": [],
   "source": []
  }
 ],
 "metadata": {
  "kernelspec": {
   "display_name": "Python 3",
   "language": "python",
   "name": "python3"
  },
  "language_info": {
   "codemirror_mode": {
    "name": "ipython",
    "version": 3
   },
   "file_extension": ".py",
   "mimetype": "text/x-python",
   "name": "python",
   "nbconvert_exporter": "python",
   "pygments_lexer": "ipython3",
   "version": "3.8.6"
  }
 },
 "nbformat": 4,
 "nbformat_minor": 4
}
